{
  "cells": [
    {
      "cell_type": "markdown",
      "metadata": {
        "id": "XDvNG22asMJk"
      },
      "source": [
        "<a id=\"A\"></a>\n",
        "# <b>A. <span style='color:#0B2F9F'><code>AGGREGATION</code></b>\n",
        "\n",
        "Fungsi agregat atau <b>Aggregation</b> adalah fungsi yang melakukan perhitungan pada sekumpulan nilai dan mengembalikan satu nilai hasil perhitungan tersebut. Fungsi agregat SQL yang paling umum digunakan adalah:\n",
        "<br><br>\n",
        "<table border=\"1\">\n",
        "    <tr>\n",
        "        <th>Fungsi Agregat</th>\n",
        "        <th>Deskripsi</th>\n",
        "    </tr>\n",
        "    <tr>\n",
        "        <td><b>MIN( )</b></td>\n",
        "        <td>Mengembalikan <span style='color:#FFB200'>nilai terkecil</span> dalam kolom yang dipilih.</td>\n",
        "    </tr>\n",
        "    <tr>\n",
        "        <td><b>MAX( )</b></td>\n",
        "        <td>Mengembalikan <span style='color:#FFB200'>nilai terbesar</span> dalam kolom yang dipilih.</td>\n",
        "    </tr>\n",
        "    <tr>\n",
        "        <td><b>COUNT( )</b></td>\n",
        "        <td>Mengembalikan <span style='color:#FFB200'>jumlah baris</span> dalam suatu set atau jumlah entri yang memenuhi kriteria tertentu.</td>\n",
        "    </tr>\n",
        "    <tr>\n",
        "        <td><b>SUM( )</b></td>\n",
        "        <td>Mengembalikan <span style='color:#FFB200'>jumlah total</span> dari kolom numerik.</td>\n",
        "    </tr>\n",
        "    <tr>\n",
        "        <td><b>AVG( )</b></td>\n",
        "        <td>Mengembalikan <span style='color:#FFB200'>nilai rata-rata</span> dari kolom numerik.</td>\n",
        "    </tr>\n",
        "</table>\n"
      ]
    },
    {
      "cell_type": "markdown",
      "metadata": {
        "id": "5gjnAkYXsMJu"
      },
      "source": [
        "#### <i><b><span style='color:#55679C'>Quest</span> : Hitung banyak data pada tabel telco_service!</b></i>"
      ]
    },
    {
      "cell_type": "code",
      "execution_count": null,
      "metadata": {
        "id": "2EDM6ZVHsMJw",
        "outputId": "3881972c-86ed-40c3-d9fc-c7c933296312"
      },
      "outputs": [
        {
          "data": {
            "text/html": [
              "<style type=\"text/css\">\n",
              "</style>\n",
              "<table id=\"T_abc01\">\n",
              "  <thead>\n",
              "    <tr>\n",
              "      <th id=\"T_abc01_level0_col0\" class=\"col_heading level0 col0\" >banyak_data</th>\n",
              "    </tr>\n",
              "  </thead>\n",
              "  <tbody>\n",
              "    <tr>\n",
              "      <td id=\"T_abc01_row0_col0\" class=\"data row0 col0\" >7043</td>\n",
              "    </tr>\n",
              "  </tbody>\n",
              "</table>\n"
            ],
            "text/plain": [
              "<pandas.io.formats.style.Styler at 0x25532784d10>"
            ]
          },
          "metadata": {},
          "output_type": "display_data"
        }
      ],
      "source": [
        "SELECT COUNT(customer_id) AS jumlah_data FROM telco_churn.telco_services;"
      ]
    },
    {
      "cell_type": "markdown",
      "metadata": {
        "id": "krPRY96xsMJy"
      },
      "source": [
        "#### <i><b><span style='color:#55679C'>Quest</span> : Hitung dan tampilkan total_revenue pada  tabel telco_service yang didapat perusahaan!</b></i>"
      ]
    },
    {
      "cell_type": "code",
      "execution_count": null,
      "metadata": {
        "id": "Tkz9qZu-sMJ0",
        "outputId": "17ff0798-ed81-4567-e13e-e2609878a7e0"
      },
      "outputs": [
        {
          "data": {
            "text/html": [
              "<style type=\"text/css\">\n",
              "</style>\n",
              "<table id=\"T_0da0a\">\n",
              "  <thead>\n",
              "    <tr>\n",
              "      <th id=\"T_0da0a_level0_col0\" class=\"col_heading level0 col0\" >total_revenue</th>\n",
              "    </tr>\n",
              "  </thead>\n",
              "  <tbody>\n",
              "    <tr>\n",
              "      <td id=\"T_0da0a_row0_col0\" class=\"data row0 col0\" >21371131.69</td>\n",
              "    </tr>\n",
              "  </tbody>\n",
              "</table>\n"
            ],
            "text/plain": [
              "<pandas.io.formats.style.Styler at 0x255329a3690>"
            ]
          },
          "metadata": {},
          "output_type": "display_data"
        }
      ],
      "source": [
        "SELECT SUM(total_revenue) FROM telco_churn.telco_services;"
      ]
    },
    {
      "cell_type": "markdown",
      "metadata": {
        "id": "K-nZK9WIsMJ0"
      },
      "source": [
        "#### <i><b><span style='color:#55679C'>Quest</span> : Hitung dan tampilkan nilai minimum, nilai maksimum dan rata-rata kolom tenure_in_months pada tabel telco_service dan beri nama alias yang sesuai!</b></i>"
      ]
    },
    {
      "cell_type": "code",
      "execution_count": null,
      "metadata": {
        "id": "Zv86K-HMsMJ1",
        "outputId": "39b445bb-9e00-4d48-c0cf-91501abfb67b"
      },
      "outputs": [
        {
          "data": {
            "text/html": [
              "<style type=\"text/css\">\n",
              "</style>\n",
              "<table id=\"T_61db5\">\n",
              "  <thead>\n",
              "    <tr>\n",
              "      <th id=\"T_61db5_level0_col0\" class=\"col_heading level0 col0\" >min_tenure_in_month</th>\n",
              "      <th id=\"T_61db5_level0_col1\" class=\"col_heading level0 col1\" >max_tenure_in_month</th>\n",
              "      <th id=\"T_61db5_level0_col2\" class=\"col_heading level0 col2\" >avg_tenure_in_month</th>\n",
              "    </tr>\n",
              "  </thead>\n",
              "  <tbody>\n",
              "    <tr>\n",
              "      <td id=\"T_61db5_row0_col0\" class=\"data row0 col0\" >1</td>\n",
              "      <td id=\"T_61db5_row0_col1\" class=\"data row0 col1\" >72</td>\n",
              "      <td id=\"T_61db5_row0_col2\" class=\"data row0 col2\" >32.39</td>\n",
              "    </tr>\n",
              "  </tbody>\n",
              "</table>\n"
            ],
            "text/plain": [
              "<pandas.io.formats.style.Styler at 0x255315e02d0>"
            ]
          },
          "metadata": {},
          "output_type": "display_data"
        }
      ],
      "source": [
        "SELECT\n",
        "    MIN(tenure_in_months) AS min_tenure_in_months,\n",
        "    MAX(tenure_in_months) AS max_tenure_in_months,\n",
        "    AVG(tenure_in_months) AS avg_tenure_in_months\n",
        "FROM telco_churn.telco_services;"
      ]
    },
    {
      "cell_type": "markdown",
      "metadata": {
        "id": "YmpYfMrAsMJ2"
      },
      "source": [
        "#### <i><b><span style='color:#55679C'>Quest</span> : Buat 3 kolom yang diberi total_offer_A_or_B, total_offer_C_or_D_or_E dan non_offer yang merupakan perhitungan</b></i>\n",
        "<ul>\n",
        "<li>total_offer_A_or_B = Jumlah customer yang mendapatkan penawaran Offer A atau Offer B</li>\n",
        "<li>total_offer_C_or_D_or_E = Jumlah customer yang mendapatkan penawaran Offer C, Offer D atau Offer E</li>\n",
        "<li>non_offer = Jumlah customer yang tidak mendapatkan penawaran</li>\n",
        "</ul>"
      ]
    },
    {
      "cell_type": "code",
      "execution_count": null,
      "metadata": {
        "id": "HkrBZBuBsMJ3"
      },
      "outputs": [],
      "source": [
        "SELECT\n",
        "    COUNT(CASE WHEN offer IN ('Offer A', 'Offer B') THEN customer_id END) AS total_offer_A_or_B,\n",
        "    COUNT(CASE WHEN offer IN ('Offer C', 'Offer D', 'Offer E')THEN customer_id END) AS total_offer_C_or_D_or_E,\n",
        "    COUNT(CASE WHEN offer IS NULL THEN customer_id END) AS non_offer\n",
        "FROM telco_churn.telco_services;"
      ]
    },
    {
      "cell_type": "markdown",
      "metadata": {
        "id": "vVYWXvZxsMJ3"
      },
      "source": [
        "<a id=\"B\"></a>\n",
        "# <b>B. <span style='color:#0B2F9F'><code>GROUP BY</code></b>\n",
        "\n",
        "Fungsi agregat sering digunakan bersama dengan klausa GROUP BY pada pernyataan SELECT. Klausa GROUP BY membagi hasil query menjadi beberapa kelompok nilai, dan fungsi agregat dapat digunakan untuk mengembalikan satu nilai untuk setiap kelompok.\n",
        "<br><br>\n",
        "Contoh simulasi perhitungannya adalah sebagai berikut :\n",
        "<br><br>\n",
        "<img src=\"https://wesmckinney.com/book/images/pda3_1001.png\" width=\"25%\" height=\"1%\">"
      ]
    },
    {
      "cell_type": "markdown",
      "metadata": {
        "id": "LDTEO3t8sMJ4"
      },
      "source": [
        "#### <i><b><span style='color:#55679C'>Quest</span> : Hitung dan tampilkan banyaknya customer tiap internet_type pada tabel telco_services Urutkan dari yang jumlahnya terbesar hingga terkecil!</b></i>"
      ]
    },
    {
      "cell_type": "code",
      "execution_count": null,
      "metadata": {
        "id": "o2L5_Y-rsMJ4",
        "outputId": "2238476b-9390-42e6-f713-104a9700f2f2"
      },
      "outputs": [
        {
          "data": {
            "text/html": [
              "<style type=\"text/css\">\n",
              "</style>\n",
              "<table id=\"T_7e971\">\n",
              "  <thead>\n",
              "    <tr>\n",
              "      <th id=\"T_7e971_level0_col0\" class=\"col_heading level0 col0\" >internet_type</th>\n",
              "      <th id=\"T_7e971_level0_col1\" class=\"col_heading level0 col1\" >jumlah_customer</th>\n",
              "    </tr>\n",
              "  </thead>\n",
              "  <tbody>\n",
              "    <tr>\n",
              "      <td id=\"T_7e971_row0_col0\" class=\"data row0 col0\" >Fiber Optic</td>\n",
              "      <td id=\"T_7e971_row0_col1\" class=\"data row0 col1\" >3035</td>\n",
              "    </tr>\n",
              "    <tr>\n",
              "      <td id=\"T_7e971_row1_col0\" class=\"data row1 col0\" >DSL</td>\n",
              "      <td id=\"T_7e971_row1_col1\" class=\"data row1 col1\" >1652</td>\n",
              "    </tr>\n",
              "    <tr>\n",
              "      <td id=\"T_7e971_row2_col0\" class=\"data row2 col0\" >nan</td>\n",
              "      <td id=\"T_7e971_row2_col1\" class=\"data row2 col1\" >1526</td>\n",
              "    </tr>\n",
              "    <tr>\n",
              "      <td id=\"T_7e971_row3_col0\" class=\"data row3 col0\" >Cable</td>\n",
              "      <td id=\"T_7e971_row3_col1\" class=\"data row3 col1\" >830</td>\n",
              "    </tr>\n",
              "  </tbody>\n",
              "</table>\n"
            ],
            "text/plain": [
              "<pandas.io.formats.style.Styler at 0x255315e3110>"
            ]
          },
          "metadata": {},
          "output_type": "display_data"
        }
      ],
      "source": [
        "SELECT\n",
        "    internet_type,\n",
        "    COUNT(customer_id) AS jumlah_customer\n",
        "FROM telco_churn.telco_services\n",
        "GROUP BY internet_type\n",
        "ORDER BY jumlah_customer DESC;"
      ]
    },
    {
      "cell_type": "markdown",
      "metadata": {
        "id": "4cOQ_GfpsMJ5"
      },
      "source": [
        "#### <i><b><span style='color:#55679C'>Quest</span> : Hitung dan tampilkan banyaknya customer tiap kategori offer dan internet_type pada tabel telco_services Urutkan berdasarkan offer dan internet_type secara ascending!</b></i>"
      ]
    },
    {
      "cell_type": "code",
      "execution_count": null,
      "metadata": {
        "id": "5sk3WnI_sMJ6",
        "outputId": "d6e472e8-7f85-45fe-f792-49afcbe0276a"
      },
      "outputs": [
        {
          "data": {
            "text/html": [
              "<style type=\"text/css\">\n",
              "</style>\n",
              "<table id=\"T_f5ce3\">\n",
              "  <thead>\n",
              "    <tr>\n",
              "      <th id=\"T_f5ce3_level0_col0\" class=\"col_heading level0 col0\" >offer</th>\n",
              "      <th id=\"T_f5ce3_level0_col1\" class=\"col_heading level0 col1\" >internet_type</th>\n",
              "      <th id=\"T_f5ce3_level0_col2\" class=\"col_heading level0 col2\" >jumlah_customer</th>\n",
              "    </tr>\n",
              "  </thead>\n",
              "  <tbody>\n",
              "    <tr>\n",
              "      <td id=\"T_f5ce3_row0_col0\" class=\"data row0 col0\" >Offer A</td>\n",
              "      <td id=\"T_f5ce3_row0_col1\" class=\"data row0 col1\" >Cable</td>\n",
              "      <td id=\"T_f5ce3_row0_col2\" class=\"data row0 col2\" >68</td>\n",
              "    </tr>\n",
              "    <tr>\n",
              "      <td id=\"T_f5ce3_row1_col0\" class=\"data row1 col0\" >Offer A</td>\n",
              "      <td id=\"T_f5ce3_row1_col1\" class=\"data row1 col1\" >DSL</td>\n",
              "      <td id=\"T_f5ce3_row1_col2\" class=\"data row1 col2\" >128</td>\n",
              "    </tr>\n",
              "    <tr>\n",
              "      <td id=\"T_f5ce3_row2_col0\" class=\"data row2 col0\" >Offer A</td>\n",
              "      <td id=\"T_f5ce3_row2_col1\" class=\"data row2 col1\" >Fiber Optic</td>\n",
              "      <td id=\"T_f5ce3_row2_col2\" class=\"data row2 col2\" >232</td>\n",
              "    </tr>\n",
              "    <tr>\n",
              "      <td id=\"T_f5ce3_row3_col0\" class=\"data row3 col0\" >Offer A</td>\n",
              "      <td id=\"T_f5ce3_row3_col1\" class=\"data row3 col1\" >nan</td>\n",
              "      <td id=\"T_f5ce3_row3_col2\" class=\"data row3 col2\" >92</td>\n",
              "    </tr>\n",
              "    <tr>\n",
              "      <td id=\"T_f5ce3_row4_col0\" class=\"data row4 col0\" >Offer B</td>\n",
              "      <td id=\"T_f5ce3_row4_col1\" class=\"data row4 col1\" >Cable</td>\n",
              "      <td id=\"T_f5ce3_row4_col2\" class=\"data row4 col2\" >92</td>\n",
              "    </tr>\n",
              "    <tr>\n",
              "      <td id=\"T_f5ce3_row5_col0\" class=\"data row5 col0\" >Offer B</td>\n",
              "      <td id=\"T_f5ce3_row5_col1\" class=\"data row5 col1\" >DSL</td>\n",
              "      <td id=\"T_f5ce3_row5_col2\" class=\"data row5 col2\" >191</td>\n",
              "    </tr>\n",
              "    <tr>\n",
              "      <td id=\"T_f5ce3_row6_col0\" class=\"data row6 col0\" >Offer B</td>\n",
              "      <td id=\"T_f5ce3_row6_col1\" class=\"data row6 col1\" >Fiber Optic</td>\n",
              "      <td id=\"T_f5ce3_row6_col2\" class=\"data row6 col2\" >379</td>\n",
              "    </tr>\n",
              "    <tr>\n",
              "      <td id=\"T_f5ce3_row7_col0\" class=\"data row7 col0\" >Offer B</td>\n",
              "      <td id=\"T_f5ce3_row7_col1\" class=\"data row7 col1\" >nan</td>\n",
              "      <td id=\"T_f5ce3_row7_col2\" class=\"data row7 col2\" >162</td>\n",
              "    </tr>\n",
              "    <tr>\n",
              "      <td id=\"T_f5ce3_row8_col0\" class=\"data row8 col0\" >Offer C</td>\n",
              "      <td id=\"T_f5ce3_row8_col1\" class=\"data row8 col1\" >Cable</td>\n",
              "      <td id=\"T_f5ce3_row8_col2\" class=\"data row8 col2\" >51</td>\n",
              "    </tr>\n",
              "    <tr>\n",
              "      <td id=\"T_f5ce3_row9_col0\" class=\"data row9 col0\" >Offer C</td>\n",
              "      <td id=\"T_f5ce3_row9_col1\" class=\"data row9 col1\" >DSL</td>\n",
              "      <td id=\"T_f5ce3_row9_col2\" class=\"data row9 col2\" >88</td>\n",
              "    </tr>\n",
              "    <tr>\n",
              "      <td id=\"T_f5ce3_row10_col0\" class=\"data row10 col0\" >Offer C</td>\n",
              "      <td id=\"T_f5ce3_row10_col1\" class=\"data row10 col1\" >Fiber Optic</td>\n",
              "      <td id=\"T_f5ce3_row10_col2\" class=\"data row10 col2\" >195</td>\n",
              "    </tr>\n",
              "    <tr>\n",
              "      <td id=\"T_f5ce3_row11_col0\" class=\"data row11 col0\" >Offer C</td>\n",
              "      <td id=\"T_f5ce3_row11_col1\" class=\"data row11 col1\" >nan</td>\n",
              "      <td id=\"T_f5ce3_row11_col2\" class=\"data row11 col2\" >81</td>\n",
              "    </tr>\n",
              "    <tr>\n",
              "      <td id=\"T_f5ce3_row12_col0\" class=\"data row12 col0\" >Offer D</td>\n",
              "      <td id=\"T_f5ce3_row12_col1\" class=\"data row12 col1\" >Cable</td>\n",
              "      <td id=\"T_f5ce3_row12_col2\" class=\"data row12 col2\" >57</td>\n",
              "    </tr>\n",
              "    <tr>\n",
              "      <td id=\"T_f5ce3_row13_col0\" class=\"data row13 col0\" >Offer D</td>\n",
              "      <td id=\"T_f5ce3_row13_col1\" class=\"data row13 col1\" >DSL</td>\n",
              "      <td id=\"T_f5ce3_row13_col2\" class=\"data row13 col2\" >143</td>\n",
              "    </tr>\n",
              "    <tr>\n",
              "      <td id=\"T_f5ce3_row14_col0\" class=\"data row14 col0\" >Offer D</td>\n",
              "      <td id=\"T_f5ce3_row14_col1\" class=\"data row14 col1\" >Fiber Optic</td>\n",
              "      <td id=\"T_f5ce3_row14_col2\" class=\"data row14 col2\" >237</td>\n",
              "    </tr>\n",
              "    <tr>\n",
              "      <td id=\"T_f5ce3_row15_col0\" class=\"data row15 col0\" >Offer D</td>\n",
              "      <td id=\"T_f5ce3_row15_col1\" class=\"data row15 col1\" >nan</td>\n",
              "      <td id=\"T_f5ce3_row15_col2\" class=\"data row15 col2\" >165</td>\n",
              "    </tr>\n",
              "    <tr>\n",
              "      <td id=\"T_f5ce3_row16_col0\" class=\"data row16 col0\" >Offer E</td>\n",
              "      <td id=\"T_f5ce3_row16_col1\" class=\"data row16 col1\" >Cable</td>\n",
              "      <td id=\"T_f5ce3_row16_col2\" class=\"data row16 col2\" >111</td>\n",
              "    </tr>\n",
              "    <tr>\n",
              "      <td id=\"T_f5ce3_row17_col0\" class=\"data row17 col0\" >Offer E</td>\n",
              "      <td id=\"T_f5ce3_row17_col1\" class=\"data row17 col1\" >DSL</td>\n",
              "      <td id=\"T_f5ce3_row17_col2\" class=\"data row17 col2\" >193</td>\n",
              "    </tr>\n",
              "    <tr>\n",
              "      <td id=\"T_f5ce3_row18_col0\" class=\"data row18 col0\" >Offer E</td>\n",
              "      <td id=\"T_f5ce3_row18_col1\" class=\"data row18 col1\" >Fiber Optic</td>\n",
              "      <td id=\"T_f5ce3_row18_col2\" class=\"data row18 col2\" >328</td>\n",
              "    </tr>\n",
              "    <tr>\n",
              "      <td id=\"T_f5ce3_row19_col0\" class=\"data row19 col0\" >Offer E</td>\n",
              "      <td id=\"T_f5ce3_row19_col1\" class=\"data row19 col1\" >nan</td>\n",
              "      <td id=\"T_f5ce3_row19_col2\" class=\"data row19 col2\" >173</td>\n",
              "    </tr>\n",
              "    <tr>\n",
              "      <td id=\"T_f5ce3_row20_col0\" class=\"data row20 col0\" >nan</td>\n",
              "      <td id=\"T_f5ce3_row20_col1\" class=\"data row20 col1\" >Cable</td>\n",
              "      <td id=\"T_f5ce3_row20_col2\" class=\"data row20 col2\" >451</td>\n",
              "    </tr>\n",
              "    <tr>\n",
              "      <td id=\"T_f5ce3_row21_col0\" class=\"data row21 col0\" >nan</td>\n",
              "      <td id=\"T_f5ce3_row21_col1\" class=\"data row21 col1\" >DSL</td>\n",
              "      <td id=\"T_f5ce3_row21_col2\" class=\"data row21 col2\" >909</td>\n",
              "    </tr>\n",
              "    <tr>\n",
              "      <td id=\"T_f5ce3_row22_col0\" class=\"data row22 col0\" >nan</td>\n",
              "      <td id=\"T_f5ce3_row22_col1\" class=\"data row22 col1\" >Fiber Optic</td>\n",
              "      <td id=\"T_f5ce3_row22_col2\" class=\"data row22 col2\" >1664</td>\n",
              "    </tr>\n",
              "    <tr>\n",
              "      <td id=\"T_f5ce3_row23_col0\" class=\"data row23 col0\" >nan</td>\n",
              "      <td id=\"T_f5ce3_row23_col1\" class=\"data row23 col1\" >nan</td>\n",
              "      <td id=\"T_f5ce3_row23_col2\" class=\"data row23 col2\" >853</td>\n",
              "    </tr>\n",
              "  </tbody>\n",
              "</table>\n"
            ],
            "text/plain": [
              "<pandas.io.formats.style.Styler at 0x25531199a50>"
            ]
          },
          "metadata": {},
          "output_type": "display_data"
        }
      ],
      "source": [
        "SELECT\n",
        "    offer,\n",
        "    internet_type,\n",
        "    COUNT(customer_id) AS total_customer\n",
        "FROM telco_churn.telco_services\n",
        "GROUP BY 1, 2\n",
        "ORDER BY 1 ASC, 2 ASC;"
      ]
    },
    {
      "cell_type": "markdown",
      "metadata": {
        "id": "ok8kF0EasMJ6"
      },
      "source": [
        "#### <i><b><span style='color:#55679C'>Quest</span> : Tampilkan kolom phone_internet_type dan total_customer tiap tipe tersebut pada tabel telco_service lalu urutkan dari total_customer terbesar hingga terkecil, dengan ketentuan</b></i><br>\n",
        "<ul>\n",
        "<li>Jika customer menggunakan layanan Telepon & Internet, maka phone_internet_type = Phone & Internet</li>\n",
        "<li>Jika customer menggunakan layanan Telepon namun tidak menggunakan layanan Internet, maka phone_internet_type = Phone Only</li>\n",
        "<li>Jika customer tidak menggunakan layanan Telepon namun menggunakan layanan Internet, maka phone_internet_type = Internet Only</li>\n",
        "<li>Jika customer tidak menggunakan kedua layanan tersebut, maka phone_internet_type = No Phone & Internet</li>\n",
        "</ul>"
      ]
    },
    {
      "cell_type": "code",
      "execution_count": null,
      "metadata": {
        "id": "y8M5V2B3sMJ7",
        "outputId": "a02997c0-7272-46e1-c506-ce99a27a2dd3"
      },
      "outputs": [
        {
          "data": {
            "text/html": [
              "<style type=\"text/css\">\n",
              "</style>\n",
              "<table id=\"T_7a026\">\n",
              "  <thead>\n",
              "    <tr>\n",
              "      <th id=\"T_7a026_level0_col0\" class=\"col_heading level0 col0\" >phone_internet_type</th>\n",
              "      <th id=\"T_7a026_level0_col1\" class=\"col_heading level0 col1\" >total_customer</th>\n",
              "    </tr>\n",
              "  </thead>\n",
              "  <tbody>\n",
              "    <tr>\n",
              "      <td id=\"T_7a026_row0_col0\" class=\"data row0 col0\" >Phone & Internet</td>\n",
              "      <td id=\"T_7a026_row0_col1\" class=\"data row0 col1\" >4835</td>\n",
              "    </tr>\n",
              "    <tr>\n",
              "      <td id=\"T_7a026_row1_col0\" class=\"data row1 col0\" >Phone Only</td>\n",
              "      <td id=\"T_7a026_row1_col1\" class=\"data row1 col1\" >1526</td>\n",
              "    </tr>\n",
              "    <tr>\n",
              "      <td id=\"T_7a026_row2_col0\" class=\"data row2 col0\" >Internet Only</td>\n",
              "      <td id=\"T_7a026_row2_col1\" class=\"data row2 col1\" >682</td>\n",
              "    </tr>\n",
              "  </tbody>\n",
              "</table>\n"
            ],
            "text/plain": [
              "<pandas.io.formats.style.Styler at 0x1792fb7d310>"
            ]
          },
          "metadata": {},
          "output_type": "display_data"
        }
      ],
      "source": [
        "SELECT\n",
        "  CASE\n",
        "    WHEN phone_service =true AND internet_service = true THEN 'Phone & Internet'\n",
        "    WHEN phone_service =true AND internet_service = false THEN 'Phone Only'\n",
        "    WHEN phone_service =false AND internet_service = true THEN 'Internet Only'\n",
        "    ELSE 'No Phone & Internet'\n",
        "    END AS phone_internet_type,\n",
        "    COUNT(customer_id) AS total_customer\n",
        "FROM telco_churn.telco_services\n",
        "GROUP BY phone_internet_type\n",
        "ORDER BY total_customer DESC"
      ]
    },
    {
      "cell_type": "markdown",
      "metadata": {
        "id": "xR-2ztaosMJ7"
      },
      "source": [
        "<a id=\"C\"></a>\n",
        "# <b>C. <span style='color:#0B2F9F'><code>HAVING</code></b>\n",
        "\n",
        "HAVING dalam SQL digunakan untuk memfilter hasil dari kelompok data yang telah dikelompokkan dengan pernyataan GROUP BY. Mirip dengan klausa WHERE, tetapi HAVING bekerja setelah pengelompokan data dilakukan. Dengan kata lain, HAVING biasa digunakan untuk menerapkan kondisi pada hasil agregat."
      ]
    },
    {
      "cell_type": "markdown",
      "metadata": {
        "id": "2zn62ngPsMJ8"
      },
      "source": [
        "#### <i><b><span style='color:#55679C'>Quest</span> : Pada tabel telco_service, hitung rata-rata tenure_in_month tiap banyaknya number_of_referrals. Tampilkan data yang rata-rata tenure_in_month kurang dari 40 bulan!</b></i>"
      ]
    },
    {
      "cell_type": "code",
      "execution_count": null,
      "metadata": {
        "id": "Q2RUZ3L_sMJ8",
        "outputId": "76a35dc6-48da-4938-eb0d-2f9e20ebffe8"
      },
      "outputs": [
        {
          "data": {
            "text/html": [
              "<style type=\"text/css\">\n",
              "</style>\n",
              "<table id=\"T_95841\">\n",
              "  <thead>\n",
              "    <tr>\n",
              "      <th id=\"T_95841_level0_col0\" class=\"col_heading level0 col0\" >number_of_referrals</th>\n",
              "      <th id=\"T_95841_level0_col1\" class=\"col_heading level0 col1\" >avg_tenure_in_month</th>\n",
              "    </tr>\n",
              "  </thead>\n",
              "  <tbody>\n",
              "    <tr>\n",
              "      <td id=\"T_95841_row0_col0\" class=\"data row0 col0\" >0</td>\n",
              "      <td id=\"T_95841_row0_col1\" class=\"data row0 col1\" >24.23</td>\n",
              "    </tr>\n",
              "    <tr>\n",
              "      <td id=\"T_95841_row1_col0\" class=\"data row1 col0\" >1</td>\n",
              "      <td id=\"T_95841_row1_col1\" class=\"data row1 col1\" >36.13</td>\n",
              "    </tr>\n",
              "  </tbody>\n",
              "</table>\n"
            ],
            "text/plain": [
              "<pandas.io.formats.style.Styler at 0x17930704390>"
            ]
          },
          "metadata": {},
          "output_type": "display_data"
        }
      ],
      "source": [
        "SELECT\n",
        "  number_of_referrals,\n",
        "  AVG(tenure_in_months) AS avg_tenure_in_months\n",
        "FROM telco_churn.telco_services\n",
        "GROUP BY number_of_referrals\n",
        "HAVING avg_tenure_in_months < 40\n",
        "ORDER BY number_of_referrals"
      ]
    },
    {
      "cell_type": "markdown",
      "metadata": {
        "id": "JXEFxSzFsMJ8"
      },
      "source": [
        "#### <i><b><span style='color:#55679C'>Quest</span> : Hitung dan tampilkan banyaknya customer tiap kategori offer dan internet_type pada tabel telco_service, namun hanya untuk customer yang menerima offer dan total banyak customer lebih dari sama dengan 100 pada kategori yang telah disebutkan!</b></i>"
      ]
    },
    {
      "cell_type": "code",
      "execution_count": null,
      "metadata": {
        "id": "vOaS-s2jsMJ9",
        "outputId": "7fd59765-efd7-48a7-a850-88f39051b27e"
      },
      "outputs": [
        {
          "data": {
            "text/html": [
              "<style type=\"text/css\">\n",
              "</style>\n",
              "<table id=\"T_9d32d\">\n",
              "  <thead>\n",
              "    <tr>\n",
              "      <th id=\"T_9d32d_level0_col0\" class=\"col_heading level0 col0\" >offer</th>\n",
              "      <th id=\"T_9d32d_level0_col1\" class=\"col_heading level0 col1\" >internet_type</th>\n",
              "      <th id=\"T_9d32d_level0_col2\" class=\"col_heading level0 col2\" >total_customer</th>\n",
              "    </tr>\n",
              "  </thead>\n",
              "  <tbody>\n",
              "    <tr>\n",
              "      <td id=\"T_9d32d_row0_col0\" class=\"data row0 col0\" >Offer A</td>\n",
              "      <td id=\"T_9d32d_row0_col1\" class=\"data row0 col1\" >DSL</td>\n",
              "      <td id=\"T_9d32d_row0_col2\" class=\"data row0 col2\" >128</td>\n",
              "    </tr>\n",
              "    <tr>\n",
              "      <td id=\"T_9d32d_row1_col0\" class=\"data row1 col0\" >Offer A</td>\n",
              "      <td id=\"T_9d32d_row1_col1\" class=\"data row1 col1\" >Fiber Optic</td>\n",
              "      <td id=\"T_9d32d_row1_col2\" class=\"data row1 col2\" >232</td>\n",
              "    </tr>\n",
              "    <tr>\n",
              "      <td id=\"T_9d32d_row2_col0\" class=\"data row2 col0\" >Offer B</td>\n",
              "      <td id=\"T_9d32d_row2_col1\" class=\"data row2 col1\" >DSL</td>\n",
              "      <td id=\"T_9d32d_row2_col2\" class=\"data row2 col2\" >191</td>\n",
              "    </tr>\n",
              "    <tr>\n",
              "      <td id=\"T_9d32d_row3_col0\" class=\"data row3 col0\" >Offer B</td>\n",
              "      <td id=\"T_9d32d_row3_col1\" class=\"data row3 col1\" >Fiber Optic</td>\n",
              "      <td id=\"T_9d32d_row3_col2\" class=\"data row3 col2\" >379</td>\n",
              "    </tr>\n",
              "    <tr>\n",
              "      <td id=\"T_9d32d_row4_col0\" class=\"data row4 col0\" >Offer C</td>\n",
              "      <td id=\"T_9d32d_row4_col1\" class=\"data row4 col1\" >Fiber Optic</td>\n",
              "      <td id=\"T_9d32d_row4_col2\" class=\"data row4 col2\" >195</td>\n",
              "    </tr>\n",
              "    <tr>\n",
              "      <td id=\"T_9d32d_row5_col0\" class=\"data row5 col0\" >Offer D</td>\n",
              "      <td id=\"T_9d32d_row5_col1\" class=\"data row5 col1\" >DSL</td>\n",
              "      <td id=\"T_9d32d_row5_col2\" class=\"data row5 col2\" >143</td>\n",
              "    </tr>\n",
              "    <tr>\n",
              "      <td id=\"T_9d32d_row6_col0\" class=\"data row6 col0\" >Offer D</td>\n",
              "      <td id=\"T_9d32d_row6_col1\" class=\"data row6 col1\" >Fiber Optic</td>\n",
              "      <td id=\"T_9d32d_row6_col2\" class=\"data row6 col2\" >237</td>\n",
              "    </tr>\n",
              "    <tr>\n",
              "      <td id=\"T_9d32d_row7_col0\" class=\"data row7 col0\" >Offer E</td>\n",
              "      <td id=\"T_9d32d_row7_col1\" class=\"data row7 col1\" >Cable</td>\n",
              "      <td id=\"T_9d32d_row7_col2\" class=\"data row7 col2\" >111</td>\n",
              "    </tr>\n",
              "    <tr>\n",
              "      <td id=\"T_9d32d_row8_col0\" class=\"data row8 col0\" >Offer E</td>\n",
              "      <td id=\"T_9d32d_row8_col1\" class=\"data row8 col1\" >DSL</td>\n",
              "      <td id=\"T_9d32d_row8_col2\" class=\"data row8 col2\" >193</td>\n",
              "    </tr>\n",
              "    <tr>\n",
              "      <td id=\"T_9d32d_row9_col0\" class=\"data row9 col0\" >Offer E</td>\n",
              "      <td id=\"T_9d32d_row9_col1\" class=\"data row9 col1\" >Fiber Optic</td>\n",
              "      <td id=\"T_9d32d_row9_col2\" class=\"data row9 col2\" >328</td>\n",
              "    </tr>\n",
              "  </tbody>\n",
              "</table>\n"
            ],
            "text/plain": [
              "<pandas.io.formats.style.Styler at 0x17930622e90>"
            ]
          },
          "metadata": {},
          "output_type": "display_data"
        }
      ],
      "source": [
        "SELECT\n",
        "  offer,\n",
        "  internet_type,\n",
        "COUNT(customer_id) AS total_customer\n",
        "FROM telco_churn.telco_services\n",
        "WHERE offer IS NOT NULL\n",
        "GROUP BY offer, internet_type\n",
        "HAVING total_customer >= 100\n",
        "ORDER BY offer, internet_type"
      ]
    }
  ],
  "metadata": {
    "kernelspec": {
      "display_name": "base",
      "language": "python",
      "name": "python3"
    },
    "language_info": {
      "codemirror_mode": {
        "name": "ipython",
        "version": 3
      },
      "file_extension": ".py",
      "mimetype": "text/x-python",
      "name": "python",
      "nbconvert_exporter": "python",
      "pygments_lexer": "ipython3",
      "version": "3.11.3"
    },
    "colab": {
      "provenance": []
    }
  },
  "nbformat": 4,
  "nbformat_minor": 0
}